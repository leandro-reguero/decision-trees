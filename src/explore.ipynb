{
    "cells": [
        {
            "cell_type": "markdown",
            "metadata": {},
            "source": [
                "# Explore here"
            ]
        },
        {
            "cell_type": "code",
            "execution_count": 51,
            "metadata": {},
            "outputs": [],
            "source": [
                "import pandas as pd\n",
                "import numpy as np\n",
                "import os\n",
                "\n",
                "import matplotlib.pyplot as plt\n",
                "import seaborn as sns\n",
                "\n",
                "from sklearn.datasets import load_iris\n",
                "from sklearn.model_selection import train_test_split\n",
                "\n",
                "from sklearn import tree\n",
                "from sklearn.tree import DecisionTreeClassifier\n",
                "from sklearn.tree import DecisionTreeRegressor\n",
                "\n",
                "from sklearn.metrics import accuracy_score\n",
                "from sklearn.metrics import f1_score\n",
                "from sklearn.metrics import precision_score\n",
                "from sklearn.metrics import recall_score\n",
                "from sklearn.metrics import classification_report\n",
                "\n",
                "from sklearn.metrics import mean_squared_error, r2_score\n",
                "\n",
                "from pickle import dump"
            ]
        },
        {
            "cell_type": "code",
            "execution_count": 3,
            "metadata": {},
            "outputs": [
                {
                    "name": "stdout",
                    "output_type": "stream",
                    "text": [
                        "Files in 'c:\\\\Users\\\\34616\\\\Documents\\\\4GEEKS\\\\clases\\\\clase20_decisiontrees\\\\decision-trees\\\\src': ['app.py', 'explore.ipynb', 'utils.py']\n"
                    ]
                }
            ],
            "source": [
                "cwd = os.getcwd()  # Get the current working directory (cwd)\n",
                "files = os.listdir(cwd)  # Get all the files in that directory\n",
                "print(\"Files in %r: %s\" % (cwd, files))\n"
            ]
        },
        {
            "cell_type": "code",
            "execution_count": 4,
            "metadata": {},
            "outputs": [
                {
                    "data": {
                        "text/html": [
                            "<div>\n",
                            "<style scoped>\n",
                            "    .dataframe tbody tr th:only-of-type {\n",
                            "        vertical-align: middle;\n",
                            "    }\n",
                            "\n",
                            "    .dataframe tbody tr th {\n",
                            "        vertical-align: top;\n",
                            "    }\n",
                            "\n",
                            "    .dataframe thead th {\n",
                            "        text-align: right;\n",
                            "    }\n",
                            "</style>\n",
                            "<table border=\"1\" class=\"dataframe\">\n",
                            "  <thead>\n",
                            "    <tr style=\"text-align: right;\">\n",
                            "      <th></th>\n",
                            "      <th>Unnamed: 0</th>\n",
                            "      <th>Pregnancies</th>\n",
                            "      <th>Glucose</th>\n",
                            "      <th>BloodPressure</th>\n",
                            "      <th>SkinThickness</th>\n",
                            "      <th>Insulin</th>\n",
                            "      <th>BMI</th>\n",
                            "      <th>DiabetesPedigreeFunction</th>\n",
                            "      <th>Age</th>\n",
                            "      <th>Outcome</th>\n",
                            "    </tr>\n",
                            "  </thead>\n",
                            "  <tbody>\n",
                            "    <tr>\n",
                            "      <th>0</th>\n",
                            "      <td>0</td>\n",
                            "      <td>6</td>\n",
                            "      <td>148</td>\n",
                            "      <td>72</td>\n",
                            "      <td>35</td>\n",
                            "      <td>0</td>\n",
                            "      <td>33.6</td>\n",
                            "      <td>0.627</td>\n",
                            "      <td>50</td>\n",
                            "      <td>1</td>\n",
                            "    </tr>\n",
                            "    <tr>\n",
                            "      <th>1</th>\n",
                            "      <td>1</td>\n",
                            "      <td>1</td>\n",
                            "      <td>85</td>\n",
                            "      <td>66</td>\n",
                            "      <td>29</td>\n",
                            "      <td>0</td>\n",
                            "      <td>26.6</td>\n",
                            "      <td>0.351</td>\n",
                            "      <td>31</td>\n",
                            "      <td>0</td>\n",
                            "    </tr>\n",
                            "    <tr>\n",
                            "      <th>2</th>\n",
                            "      <td>2</td>\n",
                            "      <td>8</td>\n",
                            "      <td>183</td>\n",
                            "      <td>64</td>\n",
                            "      <td>0</td>\n",
                            "      <td>0</td>\n",
                            "      <td>23.3</td>\n",
                            "      <td>0.672</td>\n",
                            "      <td>32</td>\n",
                            "      <td>1</td>\n",
                            "    </tr>\n",
                            "    <tr>\n",
                            "      <th>3</th>\n",
                            "      <td>3</td>\n",
                            "      <td>1</td>\n",
                            "      <td>89</td>\n",
                            "      <td>66</td>\n",
                            "      <td>23</td>\n",
                            "      <td>94</td>\n",
                            "      <td>28.1</td>\n",
                            "      <td>0.167</td>\n",
                            "      <td>21</td>\n",
                            "      <td>0</td>\n",
                            "    </tr>\n",
                            "    <tr>\n",
                            "      <th>4</th>\n",
                            "      <td>4</td>\n",
                            "      <td>0</td>\n",
                            "      <td>137</td>\n",
                            "      <td>40</td>\n",
                            "      <td>35</td>\n",
                            "      <td>168</td>\n",
                            "      <td>43.1</td>\n",
                            "      <td>2.288</td>\n",
                            "      <td>33</td>\n",
                            "      <td>1</td>\n",
                            "    </tr>\n",
                            "  </tbody>\n",
                            "</table>\n",
                            "</div>"
                        ],
                        "text/plain": [
                            "   Unnamed: 0  Pregnancies  Glucose  BloodPressure  SkinThickness  Insulin  \\\n",
                            "0           0            6      148             72             35        0   \n",
                            "1           1            1       85             66             29        0   \n",
                            "2           2            8      183             64              0        0   \n",
                            "3           3            1       89             66             23       94   \n",
                            "4           4            0      137             40             35      168   \n",
                            "\n",
                            "    BMI  DiabetesPedigreeFunction  Age  Outcome  \n",
                            "0  33.6                     0.627   50        1  \n",
                            "1  26.6                     0.351   31        0  \n",
                            "2  23.3                     0.672   32        1  \n",
                            "3  28.1                     0.167   21        0  \n",
                            "4  43.1                     2.288   33        1  "
                        ]
                    },
                    "execution_count": 4,
                    "metadata": {},
                    "output_type": "execute_result"
                }
            ],
            "source": [
                "# Your code here\n",
                "import pandas as pd\n",
                "\n",
                "url = 'https://raw.githubusercontent.com/4GeeksAcademy/decision-tree-project-tutorial/main/diabetes.csv'\n",
                "urldata = pd.read_csv(url)\n",
                "urldata.to_csv(r'C:\\Users\\34616\\Documents\\4GEEKS\\clases\\clase20_decisiontrees\\decision-trees\\data\\raw\\total_data.csv')\n",
                "rawdata = pd.read_csv(r'C:\\Users\\34616\\Documents\\4GEEKS\\clases\\clase20_decisiontrees\\decision-trees\\data\\raw\\total_data.csv', index_col=False)\n",
                "rawdata.head()"
            ]
        },
        {
            "cell_type": "code",
            "execution_count": 5,
            "metadata": {},
            "outputs": [
                {
                    "data": {
                        "text/html": [
                            "<div>\n",
                            "<style scoped>\n",
                            "    .dataframe tbody tr th:only-of-type {\n",
                            "        vertical-align: middle;\n",
                            "    }\n",
                            "\n",
                            "    .dataframe tbody tr th {\n",
                            "        vertical-align: top;\n",
                            "    }\n",
                            "\n",
                            "    .dataframe thead th {\n",
                            "        text-align: right;\n",
                            "    }\n",
                            "</style>\n",
                            "<table border=\"1\" class=\"dataframe\">\n",
                            "  <thead>\n",
                            "    <tr style=\"text-align: right;\">\n",
                            "      <th></th>\n",
                            "      <th>Pregnancies</th>\n",
                            "      <th>Glucose</th>\n",
                            "      <th>BloodPressure</th>\n",
                            "      <th>SkinThickness</th>\n",
                            "      <th>Insulin</th>\n",
                            "      <th>BMI</th>\n",
                            "      <th>DiabetesPedigreeFunction</th>\n",
                            "      <th>Age</th>\n",
                            "      <th>Outcome</th>\n",
                            "    </tr>\n",
                            "  </thead>\n",
                            "  <tbody>\n",
                            "    <tr>\n",
                            "      <th>0</th>\n",
                            "      <td>6</td>\n",
                            "      <td>148</td>\n",
                            "      <td>72</td>\n",
                            "      <td>35</td>\n",
                            "      <td>0</td>\n",
                            "      <td>33.6</td>\n",
                            "      <td>0.627</td>\n",
                            "      <td>50</td>\n",
                            "      <td>1</td>\n",
                            "    </tr>\n",
                            "    <tr>\n",
                            "      <th>1</th>\n",
                            "      <td>1</td>\n",
                            "      <td>85</td>\n",
                            "      <td>66</td>\n",
                            "      <td>29</td>\n",
                            "      <td>0</td>\n",
                            "      <td>26.6</td>\n",
                            "      <td>0.351</td>\n",
                            "      <td>31</td>\n",
                            "      <td>0</td>\n",
                            "    </tr>\n",
                            "    <tr>\n",
                            "      <th>2</th>\n",
                            "      <td>8</td>\n",
                            "      <td>183</td>\n",
                            "      <td>64</td>\n",
                            "      <td>0</td>\n",
                            "      <td>0</td>\n",
                            "      <td>23.3</td>\n",
                            "      <td>0.672</td>\n",
                            "      <td>32</td>\n",
                            "      <td>1</td>\n",
                            "    </tr>\n",
                            "    <tr>\n",
                            "      <th>3</th>\n",
                            "      <td>1</td>\n",
                            "      <td>89</td>\n",
                            "      <td>66</td>\n",
                            "      <td>23</td>\n",
                            "      <td>94</td>\n",
                            "      <td>28.1</td>\n",
                            "      <td>0.167</td>\n",
                            "      <td>21</td>\n",
                            "      <td>0</td>\n",
                            "    </tr>\n",
                            "    <tr>\n",
                            "      <th>4</th>\n",
                            "      <td>0</td>\n",
                            "      <td>137</td>\n",
                            "      <td>40</td>\n",
                            "      <td>35</td>\n",
                            "      <td>168</td>\n",
                            "      <td>43.1</td>\n",
                            "      <td>2.288</td>\n",
                            "      <td>33</td>\n",
                            "      <td>1</td>\n",
                            "    </tr>\n",
                            "    <tr>\n",
                            "      <th>5</th>\n",
                            "      <td>5</td>\n",
                            "      <td>116</td>\n",
                            "      <td>74</td>\n",
                            "      <td>0</td>\n",
                            "      <td>0</td>\n",
                            "      <td>25.6</td>\n",
                            "      <td>0.201</td>\n",
                            "      <td>30</td>\n",
                            "      <td>0</td>\n",
                            "    </tr>\n",
                            "    <tr>\n",
                            "      <th>6</th>\n",
                            "      <td>3</td>\n",
                            "      <td>78</td>\n",
                            "      <td>50</td>\n",
                            "      <td>32</td>\n",
                            "      <td>88</td>\n",
                            "      <td>31.0</td>\n",
                            "      <td>0.248</td>\n",
                            "      <td>26</td>\n",
                            "      <td>1</td>\n",
                            "    </tr>\n",
                            "    <tr>\n",
                            "      <th>7</th>\n",
                            "      <td>10</td>\n",
                            "      <td>115</td>\n",
                            "      <td>0</td>\n",
                            "      <td>0</td>\n",
                            "      <td>0</td>\n",
                            "      <td>35.3</td>\n",
                            "      <td>0.134</td>\n",
                            "      <td>29</td>\n",
                            "      <td>0</td>\n",
                            "    </tr>\n",
                            "    <tr>\n",
                            "      <th>8</th>\n",
                            "      <td>2</td>\n",
                            "      <td>197</td>\n",
                            "      <td>70</td>\n",
                            "      <td>45</td>\n",
                            "      <td>543</td>\n",
                            "      <td>30.5</td>\n",
                            "      <td>0.158</td>\n",
                            "      <td>53</td>\n",
                            "      <td>1</td>\n",
                            "    </tr>\n",
                            "    <tr>\n",
                            "      <th>9</th>\n",
                            "      <td>8</td>\n",
                            "      <td>125</td>\n",
                            "      <td>96</td>\n",
                            "      <td>0</td>\n",
                            "      <td>0</td>\n",
                            "      <td>0.0</td>\n",
                            "      <td>0.232</td>\n",
                            "      <td>54</td>\n",
                            "      <td>1</td>\n",
                            "    </tr>\n",
                            "  </tbody>\n",
                            "</table>\n",
                            "</div>"
                        ],
                        "text/plain": [
                            "   Pregnancies  Glucose  BloodPressure  SkinThickness  Insulin   BMI  \\\n",
                            "0            6      148             72             35        0  33.6   \n",
                            "1            1       85             66             29        0  26.6   \n",
                            "2            8      183             64              0        0  23.3   \n",
                            "3            1       89             66             23       94  28.1   \n",
                            "4            0      137             40             35      168  43.1   \n",
                            "5            5      116             74              0        0  25.6   \n",
                            "6            3       78             50             32       88  31.0   \n",
                            "7           10      115              0              0        0  35.3   \n",
                            "8            2      197             70             45      543  30.5   \n",
                            "9            8      125             96              0        0   0.0   \n",
                            "\n",
                            "   DiabetesPedigreeFunction  Age  Outcome  \n",
                            "0                     0.627   50        1  \n",
                            "1                     0.351   31        0  \n",
                            "2                     0.672   32        1  \n",
                            "3                     0.167   21        0  \n",
                            "4                     2.288   33        1  \n",
                            "5                     0.201   30        0  \n",
                            "6                     0.248   26        1  \n",
                            "7                     0.134   29        0  \n",
                            "8                     0.158   53        1  \n",
                            "9                     0.232   54        1  "
                        ]
                    },
                    "execution_count": 5,
                    "metadata": {},
                    "output_type": "execute_result"
                }
            ],
            "source": [
                "rawdata = rawdata.drop('Unnamed: 0', axis=1)\n",
                "rawdata.head(10)"
            ]
        },
        {
            "cell_type": "code",
            "execution_count": 6,
            "metadata": {},
            "outputs": [
                {
                    "data": {
                        "text/plain": [
                            "<Axes: >"
                        ]
                    },
                    "execution_count": 6,
                    "metadata": {},
                    "output_type": "execute_result"
                },
                {
                    "data": {
                        "image/png": "[encoded data removed]",
                        "text/plain": [
                            "<Figure size 640x480 with 1 Axes>"
                        ]
                    },
                    "metadata": {},
                    "output_type": "display_data"
                }
            ],
            "source": [
                "rawdata.groupby('Outcome').size().plot(kind='pie', autopct='%.2f')\n",
                "# we can already observe how our data is unbalanced"
            ]
        },
        {
            "cell_type": "code",
            "execution_count": 7,
            "metadata": {},
            "outputs": [
                {
                    "name": "stdout",
                    "output_type": "stream",
                    "text": [
                        "(768, 9)\n",
                        "<class 'pandas.core.frame.DataFrame'>\n",
                        "RangeIndex: 768 entries, 0 to 767\n",
                        "Data columns (total 9 columns):\n",
                        " #   Column                    Non-Null Count  Dtype  \n",
                        "---  ------                    --------------  -----  \n",
                        " 0   Pregnancies               768 non-null    int64  \n",
                        " 1   Glucose                   768 non-null    int64  \n",
                        " 2   BloodPressure             768 non-null    int64  \n",
                        " 3   SkinThickness             768 non-null    int64  \n",
                        " 4   Insulin                   768 non-null    int64  \n",
                        " 5   BMI                       768 non-null    float64\n",
                        " 6   DiabetesPedigreeFunction  768 non-null    float64\n",
                        " 7   Age                       768 non-null    int64  \n",
                        " 8   Outcome                   768 non-null    int64  \n",
                        "dtypes: float64(2), int64(7)\n",
                        "memory usage: 54.1 KB\n",
                        "None\n",
                        "\n",
                        "Dupes: 0\n",
                        "NaNs: \n",
                        "Pregnancies                 0\n",
                        "Glucose                     0\n",
                        "BloodPressure               0\n",
                        "SkinThickness               0\n",
                        "Insulin                     0\n",
                        "BMI                         0\n",
                        "DiabetesPedigreeFunction    0\n",
                        "Age                         0\n",
                        "Outcome                     0\n",
                        "dtype: int64\n",
                        "\n",
                        "Nulls: \n",
                        "Pregnancies                 0\n",
                        "Glucose                     0\n",
                        "BloodPressure               0\n",
                        "SkinThickness               0\n",
                        "Insulin                     0\n",
                        "BMI                         0\n",
                        "DiabetesPedigreeFunction    0\n",
                        "Age                         0\n",
                        "Outcome                     0\n",
                        "dtype: int64\n"
                    ]
                }
            ],
            "source": [
                "print(rawdata.shape)\n",
                "print(rawdata.info())\n",
                "print(\"\")\n",
                "print(f\"Dupes: {rawdata.duplicated().sum()}\")\n",
                "print(f\"NaNs: \")\n",
                "print(rawdata.isna().sum())\n",
                "print(\"\")\n",
                "print(f\"Nulls: \")\n",
                "print(rawdata.isnull().sum())\n"
            ]
        },
        {
            "cell_type": "markdown",
            "metadata": {},
            "source": [
                "## Finding and removing outliers"
            ]
        },
        {
            "cell_type": "code",
            "execution_count": 8,
            "metadata": {},
            "outputs": [
                {
                    "data": {
                        "text/html": [
                            "<div>\n",
                            "<style scoped>\n",
                            "    .dataframe tbody tr th:only-of-type {\n",
                            "        vertical-align: middle;\n",
                            "    }\n",
                            "\n",
                            "    .dataframe tbody tr th {\n",
                            "        vertical-align: top;\n",
                            "    }\n",
                            "\n",
                            "    .dataframe thead th {\n",
                            "        text-align: right;\n",
                            "    }\n",
                            "</style>\n",
                            "<table border=\"1\" class=\"dataframe\">\n",
                            "  <thead>\n",
                            "    <tr style=\"text-align: right;\">\n",
                            "      <th></th>\n",
                            "      <th>Pregnancies</th>\n",
                            "      <th>Glucose</th>\n",
                            "      <th>BloodPressure</th>\n",
                            "      <th>SkinThickness</th>\n",
                            "      <th>Insulin</th>\n",
                            "      <th>BMI</th>\n",
                            "      <th>DiabetesPedigreeFunction</th>\n",
                            "      <th>Age</th>\n",
                            "      <th>Outcome</th>\n",
                            "    </tr>\n",
                            "  </thead>\n",
                            "  <tbody>\n",
                            "    <tr>\n",
                            "      <th>count</th>\n",
                            "      <td>768.000000</td>\n",
                            "      <td>768.000000</td>\n",
                            "      <td>768.000000</td>\n",
                            "      <td>768.000000</td>\n",
                            "      <td>768.000000</td>\n",
                            "      <td>768.000000</td>\n",
                            "      <td>768.000000</td>\n",
                            "      <td>768.000000</td>\n",
                            "      <td>768.000000</td>\n",
                            "    </tr>\n",
                            "    <tr>\n",
                            "      <th>mean</th>\n",
                            "      <td>3.845052</td>\n",
                            "      <td>120.894531</td>\n",
                            "      <td>69.105469</td>\n",
                            "      <td>20.536458</td>\n",
                            "      <td>79.799479</td>\n",
                            "      <td>31.992578</td>\n",
                            "      <td>0.471876</td>\n",
                            "      <td>33.240885</td>\n",
                            "      <td>0.348958</td>\n",
                            "    </tr>\n",
                            "    <tr>\n",
                            "      <th>std</th>\n",
                            "      <td>3.369578</td>\n",
                            "      <td>31.972618</td>\n",
                            "      <td>19.355807</td>\n",
                            "      <td>15.952218</td>\n",
                            "      <td>115.244002</td>\n",
                            "      <td>7.884160</td>\n",
                            "      <td>0.331329</td>\n",
                            "      <td>11.760232</td>\n",
                            "      <td>0.476951</td>\n",
                            "    </tr>\n",
                            "    <tr>\n",
                            "      <th>min</th>\n",
                            "      <td>0.000000</td>\n",
                            "      <td>0.000000</td>\n",
                            "      <td>0.000000</td>\n",
                            "      <td>0.000000</td>\n",
                            "      <td>0.000000</td>\n",
                            "      <td>0.000000</td>\n",
                            "      <td>0.078000</td>\n",
                            "      <td>21.000000</td>\n",
                            "      <td>0.000000</td>\n",
                            "    </tr>\n",
                            "    <tr>\n",
                            "      <th>25%</th>\n",
                            "      <td>1.000000</td>\n",
                            "      <td>99.000000</td>\n",
                            "      <td>62.000000</td>\n",
                            "      <td>0.000000</td>\n",
                            "      <td>0.000000</td>\n",
                            "      <td>27.300000</td>\n",
                            "      <td>0.243750</td>\n",
                            "      <td>24.000000</td>\n",
                            "      <td>0.000000</td>\n",
                            "    </tr>\n",
                            "    <tr>\n",
                            "      <th>50%</th>\n",
                            "      <td>3.000000</td>\n",
                            "      <td>117.000000</td>\n",
                            "      <td>72.000000</td>\n",
                            "      <td>23.000000</td>\n",
                            "      <td>30.500000</td>\n",
                            "      <td>32.000000</td>\n",
                            "      <td>0.372500</td>\n",
                            "      <td>29.000000</td>\n",
                            "      <td>0.000000</td>\n",
                            "    </tr>\n",
                            "    <tr>\n",
                            "      <th>75%</th>\n",
                            "      <td>6.000000</td>\n",
                            "      <td>140.250000</td>\n",
                            "      <td>80.000000</td>\n",
                            "      <td>32.000000</td>\n",
                            "      <td>127.250000</td>\n",
                            "      <td>36.600000</td>\n",
                            "      <td>0.626250</td>\n",
                            "      <td>41.000000</td>\n",
                            "      <td>1.000000</td>\n",
                            "    </tr>\n",
                            "    <tr>\n",
                            "      <th>max</th>\n",
                            "      <td>17.000000</td>\n",
                            "      <td>199.000000</td>\n",
                            "      <td>122.000000</td>\n",
                            "      <td>99.000000</td>\n",
                            "      <td>846.000000</td>\n",
                            "      <td>67.100000</td>\n",
                            "      <td>2.420000</td>\n",
                            "      <td>81.000000</td>\n",
                            "      <td>1.000000</td>\n",
                            "    </tr>\n",
                            "  </tbody>\n",
                            "</table>\n",
                            "</div>"
                        ],
                        "text/plain": [
                            "       Pregnancies     Glucose  BloodPressure  SkinThickness     Insulin  \\\n",
                            "count   768.000000  768.000000     768.000000     768.000000  768.000000   \n",
                            "mean      3.845052  120.894531      69.105469      20.536458   79.799479   \n",
                            "std       3.369578   31.972618      19.355807      15.952218  115.244002   \n",
                            "min       0.000000    0.000000       0.000000       0.000000    0.000000   \n",
                            "25%       1.000000   99.000000      62.000000       0.000000    0.000000   \n",
                            "50%       3.000000  117.000000      72.000000      23.000000   30.500000   \n",
                            "75%       6.000000  140.250000      80.000000      32.000000  127.250000   \n",
                            "max      17.000000  199.000000     122.000000      99.000000  846.000000   \n",
                            "\n",
                            "              BMI  DiabetesPedigreeFunction         Age     Outcome  \n",
                            "count  768.000000                768.000000  768.000000  768.000000  \n",
                            "mean    31.992578                  0.471876   33.240885    0.348958  \n",
                            "std      7.884160                  0.331329   11.760232    0.476951  \n",
                            "min      0.000000                  0.078000   21.000000    0.000000  \n",
                            "25%     27.300000                  0.243750   24.000000    0.000000  \n",
                            "50%     32.000000                  0.372500   29.000000    0.000000  \n",
                            "75%     36.600000                  0.626250   41.000000    1.000000  \n",
                            "max     67.100000                  2.420000   81.000000    1.000000  "
                        ]
                    },
                    "execution_count": 8,
                    "metadata": {},
                    "output_type": "execute_result"
                }
            ],
            "source": [
                "rawdata.describe()"
            ]
        },
        {
            "cell_type": "markdown",
            "metadata": {},
            "source": [
                "### Pregnancies"
            ]
        },
        {
            "cell_type": "code",
            "execution_count": 9,
            "metadata": {},
            "outputs": [
                {
                    "name": "stdout",
                    "output_type": "stream",
                    "text": [
                        "(14, 9)\n"
                    ]
                },
                {
                    "data": {
                        "image/png": "[encoded data removed]",
                        "text/plain": [
                            "<Figure size 640x480 with 1 Axes>"
                        ]
                    },
                    "metadata": {},
                    "output_type": "display_data"
                }
            ],
            "source": [
                "# finding aoutliers\n",
                "print(rawdata[rawdata['Pregnancies'] >= 13].shape)\n",
                "\n",
                "sns.boxplot(rawdata['Pregnancies'])\n",
                "plt.tight_layout()\n",
                "plt.show()"
            ]
        },
        {
            "cell_type": "code",
            "execution_count": 10,
            "metadata": {},
            "outputs": [
                {
                    "data": {
                        "text/html": [
                            "<div>\n",
                            "<style scoped>\n",
                            "    .dataframe tbody tr th:only-of-type {\n",
                            "        vertical-align: middle;\n",
                            "    }\n",
                            "\n",
                            "    .dataframe tbody tr th {\n",
                            "        vertical-align: top;\n",
                            "    }\n",
                            "\n",
                            "    .dataframe thead th {\n",
                            "        text-align: right;\n",
                            "    }\n",
                            "</style>\n",
                            "<table border=\"1\" class=\"dataframe\">\n",
                            "  <thead>\n",
                            "    <tr style=\"text-align: right;\">\n",
                            "      <th></th>\n",
                            "      <th>Pregnancies</th>\n",
                            "      <th>Glucose</th>\n",
                            "      <th>BloodPressure</th>\n",
                            "      <th>SkinThickness</th>\n",
                            "      <th>Insulin</th>\n",
                            "      <th>BMI</th>\n",
                            "      <th>DiabetesPedigreeFunction</th>\n",
                            "      <th>Age</th>\n",
                            "      <th>Outcome</th>\n",
                            "    </tr>\n",
                            "  </thead>\n",
                            "  <tbody>\n",
                            "    <tr>\n",
                            "      <th>count</th>\n",
                            "      <td>764.000000</td>\n",
                            "      <td>764.000000</td>\n",
                            "      <td>764.000000</td>\n",
                            "      <td>764.000000</td>\n",
                            "      <td>764.000000</td>\n",
                            "      <td>764.000000</td>\n",
                            "      <td>764.000000</td>\n",
                            "      <td>764.000000</td>\n",
                            "      <td>764.000000</td>\n",
                            "    </tr>\n",
                            "    <tr>\n",
                            "      <th>mean</th>\n",
                            "      <td>3.786649</td>\n",
                            "      <td>120.776178</td>\n",
                            "      <td>69.098168</td>\n",
                            "      <td>20.476440</td>\n",
                            "      <td>79.683246</td>\n",
                            "      <td>31.966099</td>\n",
                            "      <td>0.472260</td>\n",
                            "      <td>33.187173</td>\n",
                            "      <td>0.345550</td>\n",
                            "    </tr>\n",
                            "    <tr>\n",
                            "      <th>std</th>\n",
                            "      <td>3.278714</td>\n",
                            "      <td>31.946234</td>\n",
                            "      <td>19.401789</td>\n",
                            "      <td>15.966814</td>\n",
                            "      <td>115.436078</td>\n",
                            "      <td>7.894034</td>\n",
                            "      <td>0.331619</td>\n",
                            "      <td>11.764745</td>\n",
                            "      <td>0.475859</td>\n",
                            "    </tr>\n",
                            "    <tr>\n",
                            "      <th>min</th>\n",
                            "      <td>0.000000</td>\n",
                            "      <td>0.000000</td>\n",
                            "      <td>0.000000</td>\n",
                            "      <td>0.000000</td>\n",
                            "      <td>0.000000</td>\n",
                            "      <td>0.000000</td>\n",
                            "      <td>0.078000</td>\n",
                            "      <td>21.000000</td>\n",
                            "      <td>0.000000</td>\n",
                            "    </tr>\n",
                            "    <tr>\n",
                            "      <th>25%</th>\n",
                            "      <td>1.000000</td>\n",
                            "      <td>99.000000</td>\n",
                            "      <td>62.000000</td>\n",
                            "      <td>0.000000</td>\n",
                            "      <td>0.000000</td>\n",
                            "      <td>27.300000</td>\n",
                            "      <td>0.244000</td>\n",
                            "      <td>24.000000</td>\n",
                            "      <td>0.000000</td>\n",
                            "    </tr>\n",
                            "    <tr>\n",
                            "      <th>50%</th>\n",
                            "      <td>3.000000</td>\n",
                            "      <td>117.000000</td>\n",
                            "      <td>72.000000</td>\n",
                            "      <td>23.000000</td>\n",
                            "      <td>27.000000</td>\n",
                            "      <td>32.000000</td>\n",
                            "      <td>0.372500</td>\n",
                            "      <td>29.000000</td>\n",
                            "      <td>0.000000</td>\n",
                            "    </tr>\n",
                            "    <tr>\n",
                            "      <th>75%</th>\n",
                            "      <td>6.000000</td>\n",
                            "      <td>140.000000</td>\n",
                            "      <td>80.000000</td>\n",
                            "      <td>32.000000</td>\n",
                            "      <td>127.250000</td>\n",
                            "      <td>36.500000</td>\n",
                            "      <td>0.626250</td>\n",
                            "      <td>40.250000</td>\n",
                            "      <td>1.000000</td>\n",
                            "    </tr>\n",
                            "    <tr>\n",
                            "      <th>max</th>\n",
                            "      <td>13.000000</td>\n",
                            "      <td>199.000000</td>\n",
                            "      <td>122.000000</td>\n",
                            "      <td>99.000000</td>\n",
                            "      <td>846.000000</td>\n",
                            "      <td>67.100000</td>\n",
                            "      <td>2.420000</td>\n",
                            "      <td>81.000000</td>\n",
                            "      <td>1.000000</td>\n",
                            "    </tr>\n",
                            "  </tbody>\n",
                            "</table>\n",
                            "</div>"
                        ],
                        "text/plain": [
                            "       Pregnancies     Glucose  BloodPressure  SkinThickness     Insulin  \\\n",
                            "count   764.000000  764.000000     764.000000     764.000000  764.000000   \n",
                            "mean      3.786649  120.776178      69.098168      20.476440   79.683246   \n",
                            "std       3.278714   31.946234      19.401789      15.966814  115.436078   \n",
                            "min       0.000000    0.000000       0.000000       0.000000    0.000000   \n",
                            "25%       1.000000   99.000000      62.000000       0.000000    0.000000   \n",
                            "50%       3.000000  117.000000      72.000000      23.000000   27.000000   \n",
                            "75%       6.000000  140.000000      80.000000      32.000000  127.250000   \n",
                            "max      13.000000  199.000000     122.000000      99.000000  846.000000   \n",
                            "\n",
                            "              BMI  DiabetesPedigreeFunction         Age     Outcome  \n",
                            "count  764.000000                764.000000  764.000000  764.000000  \n",
                            "mean    31.966099                  0.472260   33.187173    0.345550  \n",
                            "std      7.894034                  0.331619   11.764745    0.475859  \n",
                            "min      0.000000                  0.078000   21.000000    0.000000  \n",
                            "25%     27.300000                  0.244000   24.000000    0.000000  \n",
                            "50%     32.000000                  0.372500   29.000000    0.000000  \n",
                            "75%     36.500000                  0.626250   40.250000    1.000000  \n",
                            "max     67.100000                  2.420000   81.000000    1.000000  "
                        ]
                    },
                    "execution_count": 10,
                    "metadata": {},
                    "output_type": "execute_result"
                }
            ],
            "source": [
                "rawdata = rawdata[rawdata['Pregnancies'] <= 13]\n",
                "rawdata.describe()"
            ]
        },
        {
            "cell_type": "markdown",
            "metadata": {},
            "source": [
                "### Glucose"
            ]
        },
        {
            "cell_type": "code",
            "execution_count": 11,
            "metadata": {},
            "outputs": [
                {
                    "name": "stdout",
                    "output_type": "stream",
                    "text": [
                        "349     0\n",
                        "182     0\n",
                        "342     0\n",
                        "75      0\n",
                        "502     0\n",
                        "62     44\n",
                        "680    56\n",
                        "146    57\n",
                        "537    57\n",
                        "352    61\n",
                        "Name: Glucose, dtype: int64\n",
                        "(5, 9)\n"
                    ]
                },
                {
                    "data": {
                        "image/png": "[encoded data removed]",
                        "text/plain": [
                            "<Figure size 640x480 with 1 Axes>"
                        ]
                    },
                    "metadata": {},
                    "output_type": "display_data"
                }
            ],
            "source": [
                "print(rawdata['Glucose'].sort_values(ascending=True).head(10))\n",
                "print(rawdata[rawdata['Glucose'] == 0].shape)\n",
                "\n",
                "sns.boxplot(rawdata['Glucose'])\n",
                "plt.tight_layout()\n",
                "plt.show()"
            ]
        },
        {
            "cell_type": "code",
            "execution_count": 12,
            "metadata": {},
            "outputs": [
                {
                    "data": {
                        "text/html": [
                            "<div>\n",
                            "<style scoped>\n",
                            "    .dataframe tbody tr th:only-of-type {\n",
                            "        vertical-align: middle;\n",
                            "    }\n",
                            "\n",
                            "    .dataframe tbody tr th {\n",
                            "        vertical-align: top;\n",
                            "    }\n",
                            "\n",
                            "    .dataframe thead th {\n",
                            "        text-align: right;\n",
                            "    }\n",
                            "</style>\n",
                            "<table border=\"1\" class=\"dataframe\">\n",
                            "  <thead>\n",
                            "    <tr style=\"text-align: right;\">\n",
                            "      <th></th>\n",
                            "      <th>Pregnancies</th>\n",
                            "      <th>Glucose</th>\n",
                            "      <th>BloodPressure</th>\n",
                            "      <th>SkinThickness</th>\n",
                            "      <th>Insulin</th>\n",
                            "      <th>BMI</th>\n",
                            "      <th>DiabetesPedigreeFunction</th>\n",
                            "      <th>Age</th>\n",
                            "      <th>Outcome</th>\n",
                            "    </tr>\n",
                            "  </thead>\n",
                            "  <tbody>\n",
                            "    <tr>\n",
                            "      <th>count</th>\n",
                            "      <td>759.000000</td>\n",
                            "      <td>759.000000</td>\n",
                            "      <td>759.000000</td>\n",
                            "      <td>759.000000</td>\n",
                            "      <td>759.000000</td>\n",
                            "      <td>759.000000</td>\n",
                            "      <td>759.000000</td>\n",
                            "      <td>759.000000</td>\n",
                            "      <td>759.000000</td>\n",
                            "    </tr>\n",
                            "    <tr>\n",
                            "      <th>mean</th>\n",
                            "      <td>3.793149</td>\n",
                            "      <td>121.571805</td>\n",
                            "      <td>69.108037</td>\n",
                            "      <td>20.416337</td>\n",
                            "      <td>80.177866</td>\n",
                            "      <td>31.960079</td>\n",
                            "      <td>0.472867</td>\n",
                            "      <td>33.217391</td>\n",
                            "      <td>0.345191</td>\n",
                            "    </tr>\n",
                            "    <tr>\n",
                            "      <th>std</th>\n",
                            "      <td>3.283549</td>\n",
                            "      <td>30.503121</td>\n",
                            "      <td>19.445653</td>\n",
                            "      <td>15.987728</td>\n",
                            "      <td>115.652052</td>\n",
                            "      <td>7.903176</td>\n",
                            "      <td>0.332258</td>\n",
                            "      <td>11.776902</td>\n",
                            "      <td>0.475744</td>\n",
                            "    </tr>\n",
                            "    <tr>\n",
                            "      <th>min</th>\n",
                            "      <td>0.000000</td>\n",
                            "      <td>44.000000</td>\n",
                            "      <td>0.000000</td>\n",
                            "      <td>0.000000</td>\n",
                            "      <td>0.000000</td>\n",
                            "      <td>0.000000</td>\n",
                            "      <td>0.078000</td>\n",
                            "      <td>21.000000</td>\n",
                            "      <td>0.000000</td>\n",
                            "    </tr>\n",
                            "    <tr>\n",
                            "      <th>25%</th>\n",
                            "      <td>1.000000</td>\n",
                            "      <td>99.000000</td>\n",
                            "      <td>62.000000</td>\n",
                            "      <td>0.000000</td>\n",
                            "      <td>0.000000</td>\n",
                            "      <td>27.300000</td>\n",
                            "      <td>0.244000</td>\n",
                            "      <td>24.000000</td>\n",
                            "      <td>0.000000</td>\n",
                            "    </tr>\n",
                            "    <tr>\n",
                            "      <th>50%</th>\n",
                            "      <td>3.000000</td>\n",
                            "      <td>117.000000</td>\n",
                            "      <td>72.000000</td>\n",
                            "      <td>23.000000</td>\n",
                            "      <td>36.000000</td>\n",
                            "      <td>32.000000</td>\n",
                            "      <td>0.374000</td>\n",
                            "      <td>29.000000</td>\n",
                            "      <td>0.000000</td>\n",
                            "    </tr>\n",
                            "    <tr>\n",
                            "      <th>75%</th>\n",
                            "      <td>6.000000</td>\n",
                            "      <td>140.500000</td>\n",
                            "      <td>80.000000</td>\n",
                            "      <td>32.000000</td>\n",
                            "      <td>128.500000</td>\n",
                            "      <td>36.500000</td>\n",
                            "      <td>0.626500</td>\n",
                            "      <td>40.500000</td>\n",
                            "      <td>1.000000</td>\n",
                            "    </tr>\n",
                            "    <tr>\n",
                            "      <th>max</th>\n",
                            "      <td>13.000000</td>\n",
                            "      <td>199.000000</td>\n",
                            "      <td>122.000000</td>\n",
                            "      <td>99.000000</td>\n",
                            "      <td>846.000000</td>\n",
                            "      <td>67.100000</td>\n",
                            "      <td>2.420000</td>\n",
                            "      <td>81.000000</td>\n",
                            "      <td>1.000000</td>\n",
                            "    </tr>\n",
                            "  </tbody>\n",
                            "</table>\n",
                            "</div>"
                        ],
                        "text/plain": [
                            "       Pregnancies     Glucose  BloodPressure  SkinThickness     Insulin  \\\n",
                            "count   759.000000  759.000000     759.000000     759.000000  759.000000   \n",
                            "mean      3.793149  121.571805      69.108037      20.416337   80.177866   \n",
                            "std       3.283549   30.503121      19.445653      15.987728  115.652052   \n",
                            "min       0.000000   44.000000       0.000000       0.000000    0.000000   \n",
                            "25%       1.000000   99.000000      62.000000       0.000000    0.000000   \n",
                            "50%       3.000000  117.000000      72.000000      23.000000   36.000000   \n",
                            "75%       6.000000  140.500000      80.000000      32.000000  128.500000   \n",
                            "max      13.000000  199.000000     122.000000      99.000000  846.000000   \n",
                            "\n",
                            "              BMI  DiabetesPedigreeFunction         Age     Outcome  \n",
                            "count  759.000000                759.000000  759.000000  759.000000  \n",
                            "mean    31.960079                  0.472867   33.217391    0.345191  \n",
                            "std      7.903176                  0.332258   11.776902    0.475744  \n",
                            "min      0.000000                  0.078000   21.000000    0.000000  \n",
                            "25%     27.300000                  0.244000   24.000000    0.000000  \n",
                            "50%     32.000000                  0.374000   29.000000    0.000000  \n",
                            "75%     36.500000                  0.626500   40.500000    1.000000  \n",
                            "max     67.100000                  2.420000   81.000000    1.000000  "
                        ]
                    },
                    "execution_count": 12,
                    "metadata": {},
                    "output_type": "execute_result"
                }
            ],
            "source": [
                "rawdata = rawdata[rawdata['Glucose'] > 0]\n",
                "rawdata.describe()"
            ]
        },
        {
            "cell_type": "markdown",
            "metadata": {},
            "source": [
                "### Blood Pressure"
            ]
        },
        {
            "cell_type": "code",
            "execution_count": 13,
            "metadata": {},
            "outputs": [
                {
                    "name": "stdout",
                    "output_type": "stream",
                    "text": [
                        "(35, 9)\n"
                    ]
                },
                {
                    "data": {
                        "image/png": "[encoded data removed]",
                        "text/plain": [
                            "<Figure size 640x480 with 1 Axes>"
                        ]
                    },
                    "metadata": {},
                    "output_type": "display_data"
                }
            ],
            "source": [
                "print(rawdata[rawdata['BloodPressure'] == 0].shape)\n",
                "sns.boxplot(rawdata['BloodPressure'])\n",
                "plt.tight_layout()\n",
                "plt.show()"
            ]
        },
        {
            "cell_type": "code",
            "execution_count": 14,
            "metadata": {},
            "outputs": [
                {
                    "data": {
                        "text/html": [
                            "<div>\n",
                            "<style scoped>\n",
                            "    .dataframe tbody tr th:only-of-type {\n",
                            "        vertical-align: middle;\n",
                            "    }\n",
                            "\n",
                            "    .dataframe tbody tr th {\n",
                            "        vertical-align: top;\n",
                            "    }\n",
                            "\n",
                            "    .dataframe thead th {\n",
                            "        text-align: right;\n",
                            "    }\n",
                            "</style>\n",
                            "<table border=\"1\" class=\"dataframe\">\n",
                            "  <thead>\n",
                            "    <tr style=\"text-align: right;\">\n",
                            "      <th></th>\n",
                            "      <th>Pregnancies</th>\n",
                            "      <th>Glucose</th>\n",
                            "      <th>BloodPressure</th>\n",
                            "      <th>SkinThickness</th>\n",
                            "      <th>Insulin</th>\n",
                            "      <th>BMI</th>\n",
                            "      <th>DiabetesPedigreeFunction</th>\n",
                            "      <th>Age</th>\n",
                            "      <th>Outcome</th>\n",
                            "    </tr>\n",
                            "  </thead>\n",
                            "  <tbody>\n",
                            "    <tr>\n",
                            "      <th>count</th>\n",
                            "      <td>724.000000</td>\n",
                            "      <td>724.000000</td>\n",
                            "      <td>724.000000</td>\n",
                            "      <td>724.000000</td>\n",
                            "      <td>724.000000</td>\n",
                            "      <td>724.000000</td>\n",
                            "      <td>724.000000</td>\n",
                            "      <td>724.000000</td>\n",
                            "      <td>724.000000</td>\n",
                            "    </tr>\n",
                            "    <tr>\n",
                            "      <th>mean</th>\n",
                            "      <td>3.801105</td>\n",
                            "      <td>121.754144</td>\n",
                            "      <td>72.448895</td>\n",
                            "      <td>21.330110</td>\n",
                            "      <td>84.053867</td>\n",
                            "      <td>32.262431</td>\n",
                            "      <td>0.476949</td>\n",
                            "      <td>33.338398</td>\n",
                            "      <td>0.339779</td>\n",
                            "    </tr>\n",
                            "    <tr>\n",
                            "      <th>std</th>\n",
                            "      <td>3.267544</td>\n",
                            "      <td>30.646791</td>\n",
                            "      <td>12.412187</td>\n",
                            "      <td>15.747493</td>\n",
                            "      <td>117.032682</td>\n",
                            "      <td>7.286563</td>\n",
                            "      <td>0.335168</td>\n",
                            "      <td>11.855638</td>\n",
                            "      <td>0.473962</td>\n",
                            "    </tr>\n",
                            "    <tr>\n",
                            "      <th>min</th>\n",
                            "      <td>0.000000</td>\n",
                            "      <td>44.000000</td>\n",
                            "      <td>24.000000</td>\n",
                            "      <td>0.000000</td>\n",
                            "      <td>0.000000</td>\n",
                            "      <td>0.000000</td>\n",
                            "      <td>0.078000</td>\n",
                            "      <td>21.000000</td>\n",
                            "      <td>0.000000</td>\n",
                            "    </tr>\n",
                            "    <tr>\n",
                            "      <th>25%</th>\n",
                            "      <td>1.000000</td>\n",
                            "      <td>99.750000</td>\n",
                            "      <td>64.000000</td>\n",
                            "      <td>0.000000</td>\n",
                            "      <td>0.000000</td>\n",
                            "      <td>27.400000</td>\n",
                            "      <td>0.245000</td>\n",
                            "      <td>24.000000</td>\n",
                            "      <td>0.000000</td>\n",
                            "    </tr>\n",
                            "    <tr>\n",
                            "      <th>50%</th>\n",
                            "      <td>3.000000</td>\n",
                            "      <td>117.000000</td>\n",
                            "      <td>72.000000</td>\n",
                            "      <td>23.000000</td>\n",
                            "      <td>47.000000</td>\n",
                            "      <td>32.150000</td>\n",
                            "      <td>0.380000</td>\n",
                            "      <td>29.000000</td>\n",
                            "      <td>0.000000</td>\n",
                            "    </tr>\n",
                            "    <tr>\n",
                            "      <th>75%</th>\n",
                            "      <td>6.000000</td>\n",
                            "      <td>141.000000</td>\n",
                            "      <td>80.000000</td>\n",
                            "      <td>33.000000</td>\n",
                            "      <td>130.000000</td>\n",
                            "      <td>36.525000</td>\n",
                            "      <td>0.629500</td>\n",
                            "      <td>41.000000</td>\n",
                            "      <td>1.000000</td>\n",
                            "    </tr>\n",
                            "    <tr>\n",
                            "      <th>max</th>\n",
                            "      <td>13.000000</td>\n",
                            "      <td>199.000000</td>\n",
                            "      <td>122.000000</td>\n",
                            "      <td>99.000000</td>\n",
                            "      <td>846.000000</td>\n",
                            "      <td>67.100000</td>\n",
                            "      <td>2.420000</td>\n",
                            "      <td>81.000000</td>\n",
                            "      <td>1.000000</td>\n",
                            "    </tr>\n",
                            "  </tbody>\n",
                            "</table>\n",
                            "</div>"
                        ],
                        "text/plain": [
                            "       Pregnancies     Glucose  BloodPressure  SkinThickness     Insulin  \\\n",
                            "count   724.000000  724.000000     724.000000     724.000000  724.000000   \n",
                            "mean      3.801105  121.754144      72.448895      21.330110   84.053867   \n",
                            "std       3.267544   30.646791      12.412187      15.747493  117.032682   \n",
                            "min       0.000000   44.000000      24.000000       0.000000    0.000000   \n",
                            "25%       1.000000   99.750000      64.000000       0.000000    0.000000   \n",
                            "50%       3.000000  117.000000      72.000000      23.000000   47.000000   \n",
                            "75%       6.000000  141.000000      80.000000      33.000000  130.000000   \n",
                            "max      13.000000  199.000000     122.000000      99.000000  846.000000   \n",
                            "\n",
                            "              BMI  DiabetesPedigreeFunction         Age     Outcome  \n",
                            "count  724.000000                724.000000  724.000000  724.000000  \n",
                            "mean    32.262431                  0.476949   33.338398    0.339779  \n",
                            "std      7.286563                  0.335168   11.855638    0.473962  \n",
                            "min      0.000000                  0.078000   21.000000    0.000000  \n",
                            "25%     27.400000                  0.245000   24.000000    0.000000  \n",
                            "50%     32.150000                  0.380000   29.000000    0.000000  \n",
                            "75%     36.525000                  0.629500   41.000000    1.000000  \n",
                            "max     67.100000                  2.420000   81.000000    1.000000  "
                        ]
                    },
                    "execution_count": 14,
                    "metadata": {},
                    "output_type": "execute_result"
                }
            ],
            "source": [
                "rawdata = rawdata[rawdata['BloodPressure'] > 0]\n",
                "rawdata.describe()"
            ]
        },
        {
            "cell_type": "markdown",
            "metadata": {},
            "source": [
                "### Skin Thickness"
            ]
        },
        {
            "cell_type": "code",
            "execution_count": 15,
            "metadata": {},
            "outputs": [
                {
                    "name": "stdout",
                    "output_type": "stream",
                    "text": [
                        "Top outliers: 1\n",
                        "Zeros: 194\n"
                    ]
                },
                {
                    "data": {
                        "image/png": "[encoded data removed]",
                        "text/plain": [
                            "<Figure size 640x480 with 1 Axes>"
                        ]
                    },
                    "metadata": {},
                    "output_type": "display_data"
                }
            ],
            "source": [
                "print(f\"Top outliers: {len(rawdata[rawdata['SkinThickness'] > 80])}\")\n",
                "print(f\"Zeros: {len(rawdata[rawdata['SkinThickness'] == 0])}\")\n",
                "\n",
                "\n",
                "sns.boxplot(rawdata['SkinThickness'])\n",
                "plt.tight_layout()\n",
                "plt.show()"
            ]
        },
        {
            "cell_type": "markdown",
            "metadata": {},
            "source": [
                "##### First we remove the top outlier"
            ]
        },
        {
            "cell_type": "code",
            "execution_count": 16,
            "metadata": {},
            "outputs": [
                {
                    "data": {
                        "image/png": "[encoded data removed]",
                        "text/plain": [
                            "<Figure size 640x480 with 1 Axes>"
                        ]
                    },
                    "metadata": {},
                    "output_type": "display_data"
                }
            ],
            "source": [
                "rawdata = rawdata[rawdata['SkinThickness'] <= 80]\n",
                "sns.boxplot(rawdata['SkinThickness'])\n",
                "plt.tight_layout()\n",
                "plt.show()"
            ]
        },
        {
            "cell_type": "markdown",
            "metadata": {},
            "source": [
                "### Skin thickness can't be zero. We need to deal with the 194 zeros"
            ]
        },
        {
            "cell_type": "code",
            "execution_count": 17,
            "metadata": {},
            "outputs": [
                {
                    "name": "stdout",
                    "output_type": "stream",
                    "text": [
                        "Zeros % = 26.833\n"
                    ]
                },
                {
                    "data": {
                        "text/html": [
                            "<div>\n",
                            "<style scoped>\n",
                            "    .dataframe tbody tr th:only-of-type {\n",
                            "        vertical-align: middle;\n",
                            "    }\n",
                            "\n",
                            "    .dataframe tbody tr th {\n",
                            "        vertical-align: top;\n",
                            "    }\n",
                            "\n",
                            "    .dataframe thead th {\n",
                            "        text-align: right;\n",
                            "    }\n",
                            "</style>\n",
                            "<table border=\"1\" class=\"dataframe\">\n",
                            "  <thead>\n",
                            "    <tr style=\"text-align: right;\">\n",
                            "      <th></th>\n",
                            "      <th>Pregnancies</th>\n",
                            "      <th>Glucose</th>\n",
                            "      <th>BloodPressure</th>\n",
                            "      <th>Insulin</th>\n",
                            "      <th>BMI</th>\n",
                            "      <th>DiabetesPedigreeFunction</th>\n",
                            "      <th>Age</th>\n",
                            "      <th>Outcome</th>\n",
                            "    </tr>\n",
                            "  </thead>\n",
                            "  <tbody>\n",
                            "    <tr>\n",
                            "      <th>0</th>\n",
                            "      <td>6</td>\n",
                            "      <td>148</td>\n",
                            "      <td>72</td>\n",
                            "      <td>0</td>\n",
                            "      <td>33.6</td>\n",
                            "      <td>0.627</td>\n",
                            "      <td>50</td>\n",
                            "      <td>1</td>\n",
                            "    </tr>\n",
                            "    <tr>\n",
                            "      <th>1</th>\n",
                            "      <td>1</td>\n",
                            "      <td>85</td>\n",
                            "      <td>66</td>\n",
                            "      <td>0</td>\n",
                            "      <td>26.6</td>\n",
                            "      <td>0.351</td>\n",
                            "      <td>31</td>\n",
                            "      <td>0</td>\n",
                            "    </tr>\n",
                            "    <tr>\n",
                            "      <th>2</th>\n",
                            "      <td>8</td>\n",
                            "      <td>183</td>\n",
                            "      <td>64</td>\n",
                            "      <td>0</td>\n",
                            "      <td>23.3</td>\n",
                            "      <td>0.672</td>\n",
                            "      <td>32</td>\n",
                            "      <td>1</td>\n",
                            "    </tr>\n",
                            "    <tr>\n",
                            "      <th>3</th>\n",
                            "      <td>1</td>\n",
                            "      <td>89</td>\n",
                            "      <td>66</td>\n",
                            "      <td>94</td>\n",
                            "      <td>28.1</td>\n",
                            "      <td>0.167</td>\n",
                            "      <td>21</td>\n",
                            "      <td>0</td>\n",
                            "    </tr>\n",
                            "    <tr>\n",
                            "      <th>4</th>\n",
                            "      <td>0</td>\n",
                            "      <td>137</td>\n",
                            "      <td>40</td>\n",
                            "      <td>168</td>\n",
                            "      <td>43.1</td>\n",
                            "      <td>2.288</td>\n",
                            "      <td>33</td>\n",
                            "      <td>1</td>\n",
                            "    </tr>\n",
                            "    <tr>\n",
                            "      <th>...</th>\n",
                            "      <td>...</td>\n",
                            "      <td>...</td>\n",
                            "      <td>...</td>\n",
                            "      <td>...</td>\n",
                            "      <td>...</td>\n",
                            "      <td>...</td>\n",
                            "      <td>...</td>\n",
                            "      <td>...</td>\n",
                            "    </tr>\n",
                            "    <tr>\n",
                            "      <th>763</th>\n",
                            "      <td>10</td>\n",
                            "      <td>101</td>\n",
                            "      <td>76</td>\n",
                            "      <td>180</td>\n",
                            "      <td>32.9</td>\n",
                            "      <td>0.171</td>\n",
                            "      <td>63</td>\n",
                            "      <td>0</td>\n",
                            "    </tr>\n",
                            "    <tr>\n",
                            "      <th>764</th>\n",
                            "      <td>2</td>\n",
                            "      <td>122</td>\n",
                            "      <td>70</td>\n",
                            "      <td>0</td>\n",
                            "      <td>36.8</td>\n",
                            "      <td>0.340</td>\n",
                            "      <td>27</td>\n",
                            "      <td>0</td>\n",
                            "    </tr>\n",
                            "    <tr>\n",
                            "      <th>765</th>\n",
                            "      <td>5</td>\n",
                            "      <td>121</td>\n",
                            "      <td>72</td>\n",
                            "      <td>112</td>\n",
                            "      <td>26.2</td>\n",
                            "      <td>0.245</td>\n",
                            "      <td>30</td>\n",
                            "      <td>0</td>\n",
                            "    </tr>\n",
                            "    <tr>\n",
                            "      <th>766</th>\n",
                            "      <td>1</td>\n",
                            "      <td>126</td>\n",
                            "      <td>60</td>\n",
                            "      <td>0</td>\n",
                            "      <td>30.1</td>\n",
                            "      <td>0.349</td>\n",
                            "      <td>47</td>\n",
                            "      <td>1</td>\n",
                            "    </tr>\n",
                            "    <tr>\n",
                            "      <th>767</th>\n",
                            "      <td>1</td>\n",
                            "      <td>93</td>\n",
                            "      <td>70</td>\n",
                            "      <td>0</td>\n",
                            "      <td>30.4</td>\n",
                            "      <td>0.315</td>\n",
                            "      <td>23</td>\n",
                            "      <td>0</td>\n",
                            "    </tr>\n",
                            "  </tbody>\n",
                            "</table>\n",
                            "<p>723 rows × 8 columns</p>\n",
                            "</div>"
                        ],
                        "text/plain": [
                            "     Pregnancies  Glucose  BloodPressure  Insulin   BMI  \\\n",
                            "0              6      148             72        0  33.6   \n",
                            "1              1       85             66        0  26.6   \n",
                            "2              8      183             64        0  23.3   \n",
                            "3              1       89             66       94  28.1   \n",
                            "4              0      137             40      168  43.1   \n",
                            "..           ...      ...            ...      ...   ...   \n",
                            "763           10      101             76      180  32.9   \n",
                            "764            2      122             70        0  36.8   \n",
                            "765            5      121             72      112  26.2   \n",
                            "766            1      126             60        0  30.1   \n",
                            "767            1       93             70        0  30.4   \n",
                            "\n",
                            "     DiabetesPedigreeFunction  Age  Outcome  \n",
                            "0                       0.627   50        1  \n",
                            "1                       0.351   31        0  \n",
                            "2                       0.672   32        1  \n",
                            "3                       0.167   21        0  \n",
                            "4                       2.288   33        1  \n",
                            "..                        ...  ...      ...  \n",
                            "763                     0.171   63        0  \n",
                            "764                     0.340   27        0  \n",
                            "765                     0.245   30        0  \n",
                            "766                     0.349   47        1  \n",
                            "767                     0.315   23        0  \n",
                            "\n",
                            "[723 rows x 8 columns]"
                        ]
                    },
                    "execution_count": 17,
                    "metadata": {},
                    "output_type": "execute_result"
                }
            ],
            "source": [
                "zeros = len(rawdata[rawdata['SkinThickness'] == 0])\n",
                "total = len(rawdata)\n",
                "\n",
                "print(f\"Zeros % = {round((zeros/total)*100, 3)}\")\n",
                "\n",
                "# since it is a high percentage of zeros, we are first going to try a model without that column\n",
                "\n",
                "df_noskin = rawdata.drop('SkinThickness', axis=1)\n",
                "\n",
                "df_noskin\n",
                "\n"
            ]
        },
        {
            "cell_type": "markdown",
            "metadata": {},
            "source": [
                "### Now we continue to find other outliers to perfect the data\n"
            ]
        },
        {
            "cell_type": "markdown",
            "metadata": {},
            "source": [
                "### Insulin"
            ]
        },
        {
            "cell_type": "code",
            "execution_count": 18,
            "metadata": {},
            "outputs": [
                {
                    "data": {
                        "text/plain": [
                            "count    723.000000\n",
                            "mean      84.170124\n",
                            "std      117.071858\n",
                            "min        0.000000\n",
                            "25%        0.000000\n",
                            "50%       48.000000\n",
                            "75%      130.000000\n",
                            "max      846.000000\n",
                            "Name: Insulin, dtype: float64"
                        ]
                    },
                    "execution_count": 18,
                    "metadata": {},
                    "output_type": "execute_result"
                }
            ],
            "source": [
                "rawdata['Insulin'].describe()"
            ]
        },
        {
            "cell_type": "code",
            "execution_count": 19,
            "metadata": {},
            "outputs": [
                {
                    "data": {
                        "image/png": "[encoded data removed]",
                        "text/plain": [
                            "<Figure size 640x480 with 1 Axes>"
                        ]
                    },
                    "metadata": {},
                    "output_type": "display_data"
                },
                {
                    "name": "stdout",
                    "output_type": "stream",
                    "text": [
                        " N. of outliers: 9\n",
                        "TopOutliers perc: 0.012448132780082987\n"
                    ]
                }
            ],
            "source": [
                "sns.boxplot(df_noskin['Insulin'])\n",
                "plt.tight_layout()\n",
                "plt.show()\n",
                "x = 500\n",
                "outliers = len(df_noskin[df_noskin['Insulin'] > x])\n",
                "print(f\" N. of outliers: {outliers}\")\n",
                "print(f\"TopOutliers perc: {outliers / len(df_noskin)}\")\n",
                "### this variable is highly dispersed, and I belive removing outliers is not helpful (there will always be)\n",
                "### and the data set is too small to remove them, so we will keep them"
            ]
        },
        {
            "cell_type": "markdown",
            "metadata": {},
            "source": [
                "### BMI"
            ]
        },
        {
            "cell_type": "code",
            "execution_count": 20,
            "metadata": {},
            "outputs": [
                {
                    "data": {
                        "image/png": "[encoded data removed]",
                        "text/plain": [
                            "<Figure size 640x480 with 1 Axes>"
                        ]
                    },
                    "metadata": {},
                    "output_type": "display_data"
                },
                {
                    "name": "stdout",
                    "output_type": "stream",
                    "text": [
                        " N. of zeros: 4\n",
                        "Zeros %: 0.005532503457814661\n"
                    ]
                }
            ],
            "source": [
                "sns.boxplot(df_noskin['BMI'])\n",
                "plt.tight_layout()\n",
                "plt.show()\n",
                "x = 500\n",
                "outliers = len(df_noskin[df_noskin['BMI'] == 0])\n",
                "print(f\" N. of zeros: {outliers}\")\n",
                "print(f\"Zeros %: {outliers / len(df_noskin)}\")"
            ]
        },
        {
            "cell_type": "code",
            "execution_count": 21,
            "metadata": {},
            "outputs": [],
            "source": [
                "## Since this is a very small number of zeros (BMI cannot be zero) I will replace them with the column mean\n",
                "\n",
                "df_noskin['BMI'] = df_noskin['BMI'].replace(0,df_noskin['BMI'].mean())\n"
            ]
        },
        {
            "cell_type": "code",
            "execution_count": 22,
            "metadata": {},
            "outputs": [
                {
                    "data": {
                        "text/html": [
                            "<div>\n",
                            "<style scoped>\n",
                            "    .dataframe tbody tr th:only-of-type {\n",
                            "        vertical-align: middle;\n",
                            "    }\n",
                            "\n",
                            "    .dataframe tbody tr th {\n",
                            "        vertical-align: top;\n",
                            "    }\n",
                            "\n",
                            "    .dataframe thead th {\n",
                            "        text-align: right;\n",
                            "    }\n",
                            "</style>\n",
                            "<table border=\"1\" class=\"dataframe\">\n",
                            "  <thead>\n",
                            "    <tr style=\"text-align: right;\">\n",
                            "      <th></th>\n",
                            "      <th>Pregnancies</th>\n",
                            "      <th>Glucose</th>\n",
                            "      <th>BloodPressure</th>\n",
                            "      <th>Insulin</th>\n",
                            "      <th>BMI</th>\n",
                            "      <th>DiabetesPedigreeFunction</th>\n",
                            "      <th>Age</th>\n",
                            "      <th>Outcome</th>\n",
                            "    </tr>\n",
                            "  </thead>\n",
                            "  <tbody>\n",
                            "    <tr>\n",
                            "      <th>count</th>\n",
                            "      <td>723.000000</td>\n",
                            "      <td>723.000000</td>\n",
                            "      <td>723.000000</td>\n",
                            "      <td>723.000000</td>\n",
                            "      <td>723.000000</td>\n",
                            "      <td>723.000000</td>\n",
                            "      <td>723.000000</td>\n",
                            "      <td>723.000000</td>\n",
                            "    </tr>\n",
                            "    <tr>\n",
                            "      <th>mean</th>\n",
                            "      <td>3.803596</td>\n",
                            "      <td>121.650069</td>\n",
                            "      <td>72.452282</td>\n",
                            "      <td>84.170124</td>\n",
                            "      <td>32.437533</td>\n",
                            "      <td>0.476813</td>\n",
                            "      <td>33.298755</td>\n",
                            "      <td>0.338866</td>\n",
                            "    </tr>\n",
                            "    <tr>\n",
                            "      <th>std</th>\n",
                            "      <td>3.269118</td>\n",
                            "      <td>30.539708</td>\n",
                            "      <td>12.420445</td>\n",
                            "      <td>117.071858</td>\n",
                            "      <td>6.882008</td>\n",
                            "      <td>0.335380</td>\n",
                            "      <td>11.815729</td>\n",
                            "      <td>0.473652</td>\n",
                            "    </tr>\n",
                            "    <tr>\n",
                            "      <th>min</th>\n",
                            "      <td>0.000000</td>\n",
                            "      <td>44.000000</td>\n",
                            "      <td>24.000000</td>\n",
                            "      <td>0.000000</td>\n",
                            "      <td>18.200000</td>\n",
                            "      <td>0.078000</td>\n",
                            "      <td>21.000000</td>\n",
                            "      <td>0.000000</td>\n",
                            "    </tr>\n",
                            "    <tr>\n",
                            "      <th>25%</th>\n",
                            "      <td>1.000000</td>\n",
                            "      <td>99.500000</td>\n",
                            "      <td>64.000000</td>\n",
                            "      <td>0.000000</td>\n",
                            "      <td>27.500000</td>\n",
                            "      <td>0.245000</td>\n",
                            "      <td>24.000000</td>\n",
                            "      <td>0.000000</td>\n",
                            "    </tr>\n",
                            "    <tr>\n",
                            "      <th>50%</th>\n",
                            "      <td>3.000000</td>\n",
                            "      <td>117.000000</td>\n",
                            "      <td>72.000000</td>\n",
                            "      <td>48.000000</td>\n",
                            "      <td>32.259059</td>\n",
                            "      <td>0.380000</td>\n",
                            "      <td>29.000000</td>\n",
                            "      <td>0.000000</td>\n",
                            "    </tr>\n",
                            "    <tr>\n",
                            "      <th>75%</th>\n",
                            "      <td>6.000000</td>\n",
                            "      <td>141.000000</td>\n",
                            "      <td>80.000000</td>\n",
                            "      <td>130.000000</td>\n",
                            "      <td>36.550000</td>\n",
                            "      <td>0.630000</td>\n",
                            "      <td>41.000000</td>\n",
                            "      <td>1.000000</td>\n",
                            "    </tr>\n",
                            "    <tr>\n",
                            "      <th>max</th>\n",
                            "      <td>13.000000</td>\n",
                            "      <td>199.000000</td>\n",
                            "      <td>122.000000</td>\n",
                            "      <td>846.000000</td>\n",
                            "      <td>67.100000</td>\n",
                            "      <td>2.420000</td>\n",
                            "      <td>81.000000</td>\n",
                            "      <td>1.000000</td>\n",
                            "    </tr>\n",
                            "  </tbody>\n",
                            "</table>\n",
                            "</div>"
                        ],
                        "text/plain": [
                            "       Pregnancies     Glucose  BloodPressure     Insulin         BMI  \\\n",
                            "count   723.000000  723.000000     723.000000  723.000000  723.000000   \n",
                            "mean      3.803596  121.650069      72.452282   84.170124   32.437533   \n",
                            "std       3.269118   30.539708      12.420445  117.071858    6.882008   \n",
                            "min       0.000000   44.000000      24.000000    0.000000   18.200000   \n",
                            "25%       1.000000   99.500000      64.000000    0.000000   27.500000   \n",
                            "50%       3.000000  117.000000      72.000000   48.000000   32.259059   \n",
                            "75%       6.000000  141.000000      80.000000  130.000000   36.550000   \n",
                            "max      13.000000  199.000000     122.000000  846.000000   67.100000   \n",
                            "\n",
                            "       DiabetesPedigreeFunction         Age     Outcome  \n",
                            "count                723.000000  723.000000  723.000000  \n",
                            "mean                   0.476813   33.298755    0.338866  \n",
                            "std                    0.335380   11.815729    0.473652  \n",
                            "min                    0.078000   21.000000    0.000000  \n",
                            "25%                    0.245000   24.000000    0.000000  \n",
                            "50%                    0.380000   29.000000    0.000000  \n",
                            "75%                    0.630000   41.000000    1.000000  \n",
                            "max                    2.420000   81.000000    1.000000  "
                        ]
                    },
                    "execution_count": 22,
                    "metadata": {},
                    "output_type": "execute_result"
                }
            ],
            "source": [
                "df_noskin.describe()"
            ]
        },
        {
            "cell_type": "markdown",
            "metadata": {},
            "source": [
                "### Diabetes Pedigree Function"
            ]
        },
        {
            "cell_type": "code",
            "execution_count": 37,
            "metadata": {},
            "outputs": [
                {
                    "data": {
                        "image/png": "[encoded data removed]",
                        "text/plain": [
                            "<Figure size 640x480 with 1 Axes>"
                        ]
                    },
                    "metadata": {},
                    "output_type": "display_data"
                },
                {
                    "name": "stdout",
                    "output_type": "stream",
                    "text": [
                        " N. of outliers: 10\n",
                        "Outlier %: 0.013831258644536652\n"
                    ]
                }
            ],
            "source": [
                "sns.boxplot(df_noskin['DiabetesPedigreeFunction'])\n",
                "plt.tight_layout()\n",
                "plt.show()\n",
                "x = 1.5\n",
                "outliers = len(df_noskin[df_noskin['DiabetesPedigreeFunction'] > x])\n",
                "print(f\" N. of outliers: {outliers}\")\n",
                "print(f\"Outlier %: {outliers / len(df_noskin)}\")\n",
                "\n",
                "\n"
            ]
        },
        {
            "cell_type": "markdown",
            "metadata": {},
            "source": [
                "### Very small amount of outliers, we can delete / substitute\n"
            ]
        },
        {
            "cell_type": "code",
            "execution_count": 39,
            "metadata": {},
            "outputs": [
                {
                    "name": "stdout",
                    "output_type": "stream",
                    "text": [
                        "Series([], Name: Outcome, dtype: int64)\n",
                        "       Pregnancies     Glucose  BloodPressure     Insulin         BMI  \\\n",
                        "count   713.000000  713.000000     713.000000  713.000000  713.000000   \n",
                        "mean      3.838710  121.347826      72.531557   82.727910   32.369673   \n",
                        "std       3.274101   30.327791      12.392886  113.938168    6.811615   \n",
                        "min       0.000000   44.000000      24.000000    0.000000   18.200000   \n",
                        "25%       1.000000   99.000000      64.000000    0.000000   27.400000   \n",
                        "50%       3.000000  117.000000      72.000000   46.000000   32.259059   \n",
                        "75%       6.000000  140.000000      80.000000  130.000000   36.500000   \n",
                        "max      13.000000  199.000000     122.000000  846.000000   67.100000   \n",
                        "\n",
                        "       DiabetesPedigreeFunction         Age     Outcome  \n",
                        "count                713.000000  713.000000  713.000000  \n",
                        "mean                   0.456045   33.370266    0.338008  \n",
                        "std                    0.285742   11.860155    0.473363  \n",
                        "min                    0.078000   21.000000    0.000000  \n",
                        "25%                    0.245000   24.000000    0.000000  \n",
                        "50%                    0.374000   29.000000    0.000000  \n",
                        "75%                    0.613000   41.000000    1.000000  \n",
                        "max                    1.476000   81.000000    1.000000  \n"
                    ]
                }
            ],
            "source": [
                "locs = df_noskin.loc[df_noskin['DiabetesPedigreeFunction'] > 1.5, 'Outcome']\n",
                "print(locs)\n",
                "\n",
                "# as we can see, pedigree function is not very accurate in high values\n",
                "# however, we are still going to keep those outliers for good\n",
                "\n",
                "df_noskin = df_noskin[df_noskin['DiabetesPedigreeFunction'] <= 1.5]\n",
                "\n",
                "print(df_noskin.describe())"
            ]
        },
        {
            "cell_type": "markdown",
            "metadata": {},
            "source": [
                "### Age"
            ]
        },
        {
            "cell_type": "code",
            "execution_count": 40,
            "metadata": {},
            "outputs": [
                {
                    "data": {
                        "image/png": "[encoded data removed]",
                        "text/plain": [
                            "<Figure size 640x480 with 1 Axes>"
                        ]
                    },
                    "metadata": {},
                    "output_type": "display_data"
                },
                {
                    "name": "stdout",
                    "output_type": "stream",
                    "text": [
                        "459    0\n",
                        "Name: Outcome, dtype: int64\n",
                        "       Pregnancies     Glucose  BloodPressure     Insulin         BMI  \\\n",
                        "count   711.000000  711.000000     711.000000  711.000000  711.000000   \n",
                        "mean      3.831224  121.296765      72.516174   82.876231   32.378590   \n",
                        "std       3.272968   30.353745      12.405108  114.052997    6.816872   \n",
                        "min       0.000000   44.000000      24.000000    0.000000   18.200000   \n",
                        "25%       1.000000   99.000000      64.000000    0.000000   27.450000   \n",
                        "50%       3.000000  117.000000      72.000000   46.000000   32.259059   \n",
                        "75%       6.000000  140.000000      80.000000  130.000000   36.500000   \n",
                        "max      13.000000  199.000000     122.000000  846.000000   67.100000   \n",
                        "\n",
                        "       DiabetesPedigreeFunction         Age     Outcome  \n",
                        "count                711.000000  711.000000  711.000000  \n",
                        "mean                   0.456350   33.251758    0.337553  \n",
                        "std                    0.286023   11.660209    0.473208  \n",
                        "min                    0.078000   21.000000    0.000000  \n",
                        "25%                    0.245000   24.000000    0.000000  \n",
                        "50%                    0.374000   29.000000    0.000000  \n",
                        "75%                    0.613500   41.000000    1.000000  \n",
                        "max                    1.476000   69.000000    1.000000  \n"
                    ]
                }
            ],
            "source": [
                "sns.boxplot(df_noskin['Age'])\n",
                "plt.tight_layout()\n",
                "plt.show()\n",
                "\n",
                "viejo = df_noskin.loc[df_noskin['Age'] > 70, 'Outcome']\n",
                "print(viejo)\n",
                "\n",
                "df_noskin = df_noskin[df_noskin['Age'] < 70]\n",
                "\n",
                "print(df_noskin.describe())"
            ]
        },
        {
            "cell_type": "code",
            "execution_count": 46,
            "metadata": {},
            "outputs": [
                {
                    "data": {
                        "image/png": "[encoded data removed]",
                        "text/plain": [
                            "<Figure size 640x480 with 1 Axes>"
                        ]
                    },
                    "metadata": {},
                    "output_type": "display_data"
                }
            ],
            "source": [
                "freq = df_noskin['Outcome']\n",
                "sns.histplot(freq)\n",
                "plt.tight_layout()\n",
                "plt.show()"
            ]
        },
        {
            "cell_type": "code",
            "execution_count": 48,
            "metadata": {},
            "outputs": [
                {
                    "data": {
                        "text/html": [
                            "<div>\n",
                            "<style scoped>\n",
                            "    .dataframe tbody tr th:only-of-type {\n",
                            "        vertical-align: middle;\n",
                            "    }\n",
                            "\n",
                            "    .dataframe tbody tr th {\n",
                            "        vertical-align: top;\n",
                            "    }\n",
                            "\n",
                            "    .dataframe thead th {\n",
                            "        text-align: right;\n",
                            "    }\n",
                            "</style>\n",
                            "<table border=\"1\" class=\"dataframe\">\n",
                            "  <thead>\n",
                            "    <tr style=\"text-align: right;\">\n",
                            "      <th></th>\n",
                            "      <th>Pregnancies</th>\n",
                            "      <th>Glucose</th>\n",
                            "      <th>BloodPressure</th>\n",
                            "      <th>Insulin</th>\n",
                            "      <th>BMI</th>\n",
                            "      <th>DiabetesPedigreeFunction</th>\n",
                            "      <th>Age</th>\n",
                            "      <th>Outcome</th>\n",
                            "    </tr>\n",
                            "  </thead>\n",
                            "  <tbody>\n",
                            "    <tr>\n",
                            "      <th>count</th>\n",
                            "      <td>711.000000</td>\n",
                            "      <td>711.000000</td>\n",
                            "      <td>711.000000</td>\n",
                            "      <td>711.000000</td>\n",
                            "      <td>711.000000</td>\n",
                            "      <td>711.000000</td>\n",
                            "      <td>711.000000</td>\n",
                            "      <td>711.000000</td>\n",
                            "    </tr>\n",
                            "    <tr>\n",
                            "      <th>mean</th>\n",
                            "      <td>3.831224</td>\n",
                            "      <td>121.296765</td>\n",
                            "      <td>72.516174</td>\n",
                            "      <td>82.876231</td>\n",
                            "      <td>32.378590</td>\n",
                            "      <td>0.456350</td>\n",
                            "      <td>33.251758</td>\n",
                            "      <td>0.337553</td>\n",
                            "    </tr>\n",
                            "    <tr>\n",
                            "      <th>std</th>\n",
                            "      <td>3.272968</td>\n",
                            "      <td>30.353745</td>\n",
                            "      <td>12.405108</td>\n",
                            "      <td>114.052997</td>\n",
                            "      <td>6.816872</td>\n",
                            "      <td>0.286023</td>\n",
                            "      <td>11.660209</td>\n",
                            "      <td>0.473208</td>\n",
                            "    </tr>\n",
                            "    <tr>\n",
                            "      <th>min</th>\n",
                            "      <td>0.000000</td>\n",
                            "      <td>44.000000</td>\n",
                            "      <td>24.000000</td>\n",
                            "      <td>0.000000</td>\n",
                            "      <td>18.200000</td>\n",
                            "      <td>0.078000</td>\n",
                            "      <td>21.000000</td>\n",
                            "      <td>0.000000</td>\n",
                            "    </tr>\n",
                            "    <tr>\n",
                            "      <th>25%</th>\n",
                            "      <td>1.000000</td>\n",
                            "      <td>99.000000</td>\n",
                            "      <td>64.000000</td>\n",
                            "      <td>0.000000</td>\n",
                            "      <td>27.450000</td>\n",
                            "      <td>0.245000</td>\n",
                            "      <td>24.000000</td>\n",
                            "      <td>0.000000</td>\n",
                            "    </tr>\n",
                            "    <tr>\n",
                            "      <th>50%</th>\n",
                            "      <td>3.000000</td>\n",
                            "      <td>117.000000</td>\n",
                            "      <td>72.000000</td>\n",
                            "      <td>46.000000</td>\n",
                            "      <td>32.259059</td>\n",
                            "      <td>0.374000</td>\n",
                            "      <td>29.000000</td>\n",
                            "      <td>0.000000</td>\n",
                            "    </tr>\n",
                            "    <tr>\n",
                            "      <th>75%</th>\n",
                            "      <td>6.000000</td>\n",
                            "      <td>140.000000</td>\n",
                            "      <td>80.000000</td>\n",
                            "      <td>130.000000</td>\n",
                            "      <td>36.500000</td>\n",
                            "      <td>0.613500</td>\n",
                            "      <td>41.000000</td>\n",
                            "      <td>1.000000</td>\n",
                            "    </tr>\n",
                            "    <tr>\n",
                            "      <th>max</th>\n",
                            "      <td>13.000000</td>\n",
                            "      <td>199.000000</td>\n",
                            "      <td>122.000000</td>\n",
                            "      <td>846.000000</td>\n",
                            "      <td>67.100000</td>\n",
                            "      <td>1.476000</td>\n",
                            "      <td>69.000000</td>\n",
                            "      <td>1.000000</td>\n",
                            "    </tr>\n",
                            "  </tbody>\n",
                            "</table>\n",
                            "</div>"
                        ],
                        "text/plain": [
                            "       Pregnancies     Glucose  BloodPressure     Insulin         BMI  \\\n",
                            "count   711.000000  711.000000     711.000000  711.000000  711.000000   \n",
                            "mean      3.831224  121.296765      72.516174   82.876231   32.378590   \n",
                            "std       3.272968   30.353745      12.405108  114.052997    6.816872   \n",
                            "min       0.000000   44.000000      24.000000    0.000000   18.200000   \n",
                            "25%       1.000000   99.000000      64.000000    0.000000   27.450000   \n",
                            "50%       3.000000  117.000000      72.000000   46.000000   32.259059   \n",
                            "75%       6.000000  140.000000      80.000000  130.000000   36.500000   \n",
                            "max      13.000000  199.000000     122.000000  846.000000   67.100000   \n",
                            "\n",
                            "       DiabetesPedigreeFunction         Age     Outcome  \n",
                            "count                711.000000  711.000000  711.000000  \n",
                            "mean                   0.456350   33.251758    0.337553  \n",
                            "std                    0.286023   11.660209    0.473208  \n",
                            "min                    0.078000   21.000000    0.000000  \n",
                            "25%                    0.245000   24.000000    0.000000  \n",
                            "50%                    0.374000   29.000000    0.000000  \n",
                            "75%                    0.613500   41.000000    1.000000  \n",
                            "max                    1.476000   69.000000    1.000000  "
                        ]
                    },
                    "execution_count": 48,
                    "metadata": {},
                    "output_type": "execute_result"
                }
            ],
            "source": [
                "df_noskin.describe()"
            ]
        },
        {
            "cell_type": "markdown",
            "metadata": {},
            "source": [
                "## Modeling"
            ]
        },
        {
            "cell_type": "markdown",
            "metadata": {},
            "source": [
                "### First Model (without the SkinThickness Variable)"
            ]
        },
        {
            "cell_type": "code",
            "execution_count": 56,
            "metadata": {},
            "outputs": [
                {
                    "name": "stdout",
                    "output_type": "stream",
                    "text": [
                        "     Pregnancies  Glucose  BloodPressure  Insulin   BMI  \\\n",
                        "580            0      151             90        0  42.1   \n",
                        "157            1      109             56      135  25.2   \n",
                        "90             1       80             55        0  19.1   \n",
                        "687            1      107             50        0  28.3   \n",
                        "501            3       84             72        0  37.2   \n",
                        "\n",
                        "     DiabetesPedigreeFunction  Age  \n",
                        "580                     0.371   21  \n",
                        "157                     0.833   23  \n",
                        "90                      0.258   21  \n",
                        "687                     0.181   29  \n",
                        "501                     0.267   28  \n",
                        "[1 0]\n"
                    ]
                }
            ],
            "source": [
                "X = df_noskin.drop(\"Outcome\", axis=1)\n",
                "y = df_noskin['Outcome']\n",
                "\n",
                "X_train, X_test, y_train, y_test = train_test_split(X, y, test_size= 0.2, random_state=21)\n",
                "\n",
                "print(X_train.head())\n",
                "\n"
            ]
        },
        {
            "cell_type": "code",
            "execution_count": 61,
            "metadata": {},
            "outputs": [],
            "source": [
                "clean_train_no_skin = pd.concat([X_train, y_train])\n",
                "clean_test_no_skin = pd.concat([X_test, y_test])\n",
                "\n",
                "clean_train_no_skin.to_csv(r\"C:\\Users\\34616\\Documents\\4GEEKS\\clases\\clase20_decisiontrees\\decision-trees\\data\\processed\\no_skin\\clean_train_no_skin.csv\")\n",
                "clean_test_no_skin.to_csv(r\"C:\\Users\\34616\\Documents\\4GEEKS\\clases\\clase20_decisiontrees\\decision-trees\\data\\processed\\no_skin\\clean_test_no_skin.csv\")"
            ]
        },
        {
            "cell_type": "code",
            "execution_count": 62,
            "metadata": {},
            "outputs": [
                {
                    "data": {
                        "image/png": "[encoded data removed]",
                        "text/plain": [
                            "<Figure size 1500x1500 with 1 Axes>"
                        ]
                    },
                    "metadata": {},
                    "output_type": "display_data"
                }
            ],
            "source": [
                "model = DecisionTreeClassifier(random_state=21)\n",
                "model.fit(X_train, y_train)\n",
                "\n",
                "fig = plt.figure(figsize=(15, 15))\n",
                "\n",
                "tree.plot_tree(model, feature_names= list(X_train.columns), class_names = [\"No diabetes\", \"Diabetes\"], filled= True)\n",
                "plt.show()"
            ]
        },
        {
            "cell_type": "code",
            "execution_count": 66,
            "metadata": {},
            "outputs": [
                {
                    "data": {
                        "text/plain": [
                            "array([1, 1, 0, 0, 1, 0, 0, 1, 0, 0, 1, 0, 1, 0, 0], dtype=int64)"
                        ]
                    },
                    "execution_count": 66,
                    "metadata": {},
                    "output_type": "execute_result"
                }
            ],
            "source": [
                "y_pred_test = model.predict(X_test)\n",
                "y_pred_test[::10]"
            ]
        },
        {
            "cell_type": "code",
            "execution_count": 67,
            "metadata": {},
            "outputs": [
                {
                    "data": {
                        "text/plain": [
                            "array([1, 0, 1, 1, 0, 1, 1, 1, 0, 0, 1, 0, 0, 0, 0, 0, 0, 0, 0, 1, 0, 0,\n",
                            "       1, 1, 0, 1, 0, 1, 0, 0, 1, 0, 0, 0, 0, 1, 1, 0, 0, 0, 0, 0, 1, 0,\n",
                            "       0, 0, 0, 0, 0, 0, 0, 0, 1, 1, 0, 0, 0], dtype=int64)"
                        ]
                    },
                    "execution_count": 67,
                    "metadata": {},
                    "output_type": "execute_result"
                }
            ],
            "source": [
                "y_pred_train = model.predict(X_train)\n",
                "y_pred_train[::10]"
            ]
        },
        {
            "cell_type": "markdown",
            "metadata": {},
            "source": [
                "### Evaluation of Model 1 (no skin thickness variable)"
            ]
        },
        {
            "cell_type": "code",
            "execution_count": 68,
            "metadata": {},
            "outputs": [
                {
                    "name": "stdout",
                    "output_type": "stream",
                    "text": [
                        "Accuracy Test:  0.7202797202797203\n",
                        "F1 score Test:  0.7202797202797203\n",
                        "Precision Test:  0.7202797202797203\n",
                        "Recall Test:  0.7202797202797203\n",
                        "Accuracy Train:  1.0\n",
                        "F1 score Train:  1.0\n",
                        "Precision Train:  1.0\n",
                        "Recall Train:  1.0\n"
                    ]
                }
            ],
            "source": [
                "# Evaluación\n",
                "accuracy_test = accuracy_score(y_test, y_pred_test)\n",
                "accuracy_train = accuracy_score(y_train, y_pred_train)\n",
                "\n",
                "f1_score_test = f1_score(y_test, y_pred_test, average='micro')\n",
                "f1_score_train = f1_score(y_train, y_pred_train, average='micro')\n",
                "\n",
                "precision_test = precision_score(y_test, y_pred_test, average='micro')\n",
                "precision_train = precision_score(y_train, y_pred_train, average='micro')\n",
                "\n",
                "recall_test = recall_score(y_test, y_pred_test, average='micro')\n",
                "recall_train = recall_score(y_train, y_pred_train, average='micro')\n",
                "\n",
                "print(\"Accuracy Test: \", accuracy_test)\n",
                "print(\"F1 score Test: \", f1_score_test)\n",
                "print(\"Precision Test: \", precision_test)\n",
                "print(\"Recall Test: \", recall_test)\n",
                "\n",
                "print(\"Accuracy Train: \", accuracy_train)\n",
                "print(\"F1 score Train: \", f1_score_train)\n",
                "print(\"Precision Train: \", precision_train)\n",
                "print(\"Recall Train: \", recall_train)\n"
            ]
        },
        {
            "cell_type": "code",
            "execution_count": 69,
            "metadata": {},
            "outputs": [
                {
                    "name": "stdout",
                    "output_type": "stream",
                    "text": [
                        "              precision    recall  f1-score   support\n",
                        "\n",
                        " No diabetes       0.79      0.75      0.77        88\n",
                        "    Diabetes       0.63      0.67      0.65        55\n",
                        "\n",
                        "    accuracy                           0.72       143\n",
                        "   macro avg       0.71      0.71      0.71       143\n",
                        "weighted avg       0.72      0.72      0.72       143\n",
                        "\n"
                    ]
                }
            ],
            "source": [
                "print(classification_report(y_test, y_pred_test, target_names=[\"No diabetes\", \"Diabetes\"]))"
            ]
        },
        {
            "cell_type": "code",
            "execution_count": 70,
            "metadata": {},
            "outputs": [],
            "source": [
                "dump(model, open('model_noskin_dt.sav', 'wb'))"
            ]
        },
        {
            "cell_type": "markdown",
            "metadata": {},
            "source": [
                "## Model 2 (WITH SKIN)"
            ]
        },
        {
            "cell_type": "markdown",
            "metadata": {},
            "source": [
                "### gathering back the data"
            ]
        },
        {
            "cell_type": "code",
            "execution_count": 73,
            "metadata": {},
            "outputs": [
                {
                    "name": "stdout",
                    "output_type": "stream",
                    "text": [
                        "   Pregnancies  Glucose  BloodPressure  Insulin   BMI  \\\n",
                        "0            6      148             72        0  33.6   \n",
                        "1            1       85             66        0  26.6   \n",
                        "2            8      183             64        0  23.3   \n",
                        "3            1       89             66       94  28.1   \n",
                        "5            5      116             74        0  25.6   \n",
                        "\n",
                        "   DiabetesPedigreeFunction  Age  Outcome  SkinThickness  \n",
                        "0                     0.627   50        1             35  \n",
                        "1                     0.351   31        0             29  \n",
                        "2                     0.672   32        1              0  \n",
                        "3                     0.167   21        0             23  \n",
                        "5                     0.201   30        0              0  \n",
                        "(193, 9)\n"
                    ]
                }
            ],
            "source": [
                "df_noskin['SkinThickness'] = rawdata['SkinThickness']\n",
                "\n",
                "df = df_noskin\n",
                "\n",
                "print(df.head())\n",
                "\n",
                "zeros = df[df['SkinThickness'] == 0]\n",
                "print(zeros.shape)"
            ]
        }
    ],
    "metadata": {
        "kernelspec": {
            "display_name": "Python 3.8.13 64-bit ('3.8.13')",
            "language": "python",
            "name": "python3"
        },
        "language_info": {
            "codemirror_mode": {
                "name": "ipython",
                "version": 3
            },
            "file_extension": ".py",
            "mimetype": "text/x-python",
            "name": "python",
            "nbconvert_exporter": "python",
            "pygments_lexer": "ipython3",
            "version": "3.11.1"
        },
        "orig_nbformat": 4,
        "vscode": {
            "interpreter": {
                "hash": "110cc1dee26208153f2972f08a2ad52b6a56238dc66d48e87fb757ef2996db56"
            }
        }
    },
    "nbformat": 4,
    "nbformat_minor": 2
}
